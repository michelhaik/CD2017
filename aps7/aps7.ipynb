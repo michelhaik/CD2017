{
 "cells": [
  {
   "cell_type": "markdown",
   "metadata": {},
   "source": [
    "# Ex 3"
   ]
  },
  {
   "cell_type": "code",
   "execution_count": 68,
   "metadata": {},
   "outputs": [
    {
     "name": "stdout",
     "output_type": "stream",
     "text": [
      "a média é 176.837777778\n",
      "o desvio é 110.952871901\n",
      "18\n"
     ]
    },
    {
     "data": {
      "image/png": "[encoded data removed]",
      "text/plain": [
       "<matplotlib.figure.Figure at 0x2131652a240>"
      ]
     },
     "metadata": {},
     "output_type": "display_data"
    }
   ],
   "source": [
    "%matplotlib inline\n",
    "import pandas as pd\n",
    "import numpy as np\n",
    "import math\n",
    "from scipy import stats\n",
    "import matplotlib.pyplot as plt\n",
    "\n",
    "x = [ 129.26, 204.49, 116.89, 106.4 , 95.3 , 123.35, 92.3 , 300.02, 264.34, 168.27, 80.02,\n",
    "117.96, 117.73, 370.47, 462.59, 92.58, 258.52, 82.59]\n",
    " \n",
    "#Preparacao\n",
    "n = len(x)\n",
    "mediax=np.mean(x)\n",
    "print(\"a média é\", mediax)\n",
    "desvio=np.std(x, ddof=1)\n",
    "print(\"o desvio é\", desvio)\n",
    "pd.Series(x).hist(normed=True);\n",
    "print(n)"
   ]
  },
  {
   "cell_type": "code",
   "execution_count": 76,
   "metadata": {},
   "outputs": [
    {
     "name": "stdout",
     "output_type": "stream",
     "text": [
      "Lim Inf: 130.958194444\n",
      "Lim Sup: 229.7325\n"
     ]
    }
   ],
   "source": [
    "#3a\n",
    "amostra=123456\n",
    "listamedia=[]\n",
    "for i in range(amostra):\n",
    "    amostra = np.random.choice(x, size=n)\n",
    "    xamostra = np.mean(amostra)\n",
    "    listamedia.append(xamostra)\n",
    "Linf = np.percentile(listamedia, 2.5)\n",
    "Lsup = np.percentile(listamedia, 97.5)\n",
    "print('Lim Inf:', Linf)\n",
    "print('Lim Sup:', Lsup)\n"
   ]
  },
  {
   "cell_type": "code",
   "execution_count": 77,
   "metadata": {},
   "outputs": [
    {
     "name": "stdout",
     "output_type": "stream",
     "text": [
      "Lim Inf: 131.136388889\n",
      "Lim Sup: 230.114722222\n"
     ]
    }
   ],
   "source": [
    "#B\n",
    "\n",
    "amostra=123456\n",
    "listadesvio=[]\n",
    "for i in range(amostra):\n",
    "    amostra = np.random.choice(x, size=n, replace=True)\n",
    "    add = np.mean(amostra)\n",
    "    listadesvio.append(add)\n",
    "\n",
    "Linf = np.percentile(listadesvio, 2.5)\n",
    "Lsup = np.percentile(listadesvio, 97.5)\n",
    "print('Lim Inf:', Linf)\n",
    "print('Lim Sup:', Lsup)\n",
    "                                 "
   ]
  },
  {
   "cell_type": "code",
   "execution_count": 80,
   "metadata": {},
   "outputs": [
    {
     "name": "stdout",
     "output_type": "stream",
     "text": [
      "Não há indícios. O valor dos parâmetros, 150, está dentro do esperado, pois 131.136388889 < 150 < 230.114722222\n"
     ]
    },
    {
     "data": {
      "image/png": "[encoded data removed]",
      "text/plain": [
       "<matplotlib.figure.Figure at 0x21316bb32e8>"
      ]
     },
     "metadata": {},
     "output_type": "display_data"
    }
   ],
   "source": [
    "#C\n",
    "pd.Series(listamedia).plot.hist(normed=True)\n",
    "print(\"Não há indícios. O valor dos parâmetros, 150, está dentro do esperado, pois\", Linf, \"< 150 <\",Lsup)\n"
   ]
  },
  {
   "cell_type": "code",
   "execution_count": null,
   "metadata": {},
   "outputs": [],
   "source": []
  },
  {
   "cell_type": "code",
   "execution_count": null,
   "metadata": {},
   "outputs": [],
   "source": []
  },
  {
   "cell_type": "code",
   "execution_count": null,
   "metadata": {},
   "outputs": [],
   "source": []
  },
  {
   "cell_type": "markdown",
   "metadata": {
    "collapsed": true
   },
   "source": [
    "# 1 F"
   ]
  },
  {
   "cell_type": "code",
   "execution_count": 72,
   "metadata": {},
   "outputs": [
    {
     "data": {
      "text/plain": [
       "0.89293264698576014"
      ]
     },
     "execution_count": 72,
     "metadata": {},
     "output_type": "execute_result"
    }
   ],
   "source": [
    "t=2.725\n",
    "desvio=0.0245\n",
    "alfa=0.82\n",
    "ppf=stats.t.ppf(0.995, df=(15-1), loc =alfa, scale=desvio)\n",
    "ppf"
   ]
  },
  {
   "cell_type": "markdown",
   "metadata": {},
   "source": [
    "# 2 C"
   ]
  },
  {
   "cell_type": "code",
   "execution_count": 73,
   "metadata": {},
   "outputs": [
    {
     "data": {
      "text/plain": [
       "((array([-1.12899754, -0.48565271,  0.        ,  0.48565271,  1.12899754]),\n",
       "  array([ 22.04,  22.22,  22.59,  22.62,  23.01])),\n",
       " (0.42681026992664972, 22.496000000000002, 0.98042421170935712))"
      ]
     },
     "execution_count": 73,
     "metadata": {},
     "output_type": "execute_result"
    },
    {
     "data": {
      "image/png": "[encoded data removed]",
      "text/plain": [
       "<matplotlib.figure.Figure at 0x21318d19fd0>"
      ]
     },
     "metadata": {},
     "output_type": "display_data"
    }
   ],
   "source": [
    "dados=[23.01, 22.22, 22.04, 22.62, 22.59]\n",
    "stats.probplot(dados, dist='norm', plot=plt)"
   ]
  },
  {
   "cell_type": "code",
   "execution_count": null,
   "metadata": {
    "collapsed": true
   },
   "outputs": [],
   "source": []
  }
 ],
 "metadata": {
  "anaconda-cloud": {},
  "kernelspec": {
   "display_name": "Python [conda root]",
   "language": "python",
   "name": "conda-root-py"
  },
  "language_info": {
   "codemirror_mode": {
    "name": "ipython",
    "version": 3
   },
   "file_extension": ".py",
   "mimetype": "text/x-python",
   "name": "python",
   "nbconvert_exporter": "python",
   "pygments_lexer": "ipython3",
   "version": "3.5.2"
  }
 },
 "nbformat": 4,
 "nbformat_minor": 2
}
